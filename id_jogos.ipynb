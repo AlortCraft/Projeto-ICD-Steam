{
 "cells": [
  {
   "cell_type": "markdown",
   "id": "73cb6fe1",
   "metadata": {},
   "source": [
    "# Coletar IDs dos jogos Steam"
   ]
  },
  {
   "cell_type": "code",
   "execution_count": 1,
   "id": "d9fb3171",
   "metadata": {},
   "outputs": [],
   "source": [
    "import pandas as pd\n",
    "from bs4 import BeautifulSoup\n",
    "from selenium import webdriver\n",
    "from selenium.webdriver.chrome.options import Options\n",
    "import time"
   ]
  },
  {
   "cell_type": "code",
   "execution_count": 2,
   "id": "1a99c07a",
   "metadata": {},
   "outputs": [
    {
     "name": "stdout",
     "output_type": "stream",
     "text": [
      "ARQUIVO most_played_2019.csv CRIADO.\n",
      "ARQUIVO most_played_2020.csv CRIADO.\n",
      "ARQUIVO most_played_2021.csv CRIADO.\n",
      "ARQUIVO most_played_2022.csv CRIADO.\n",
      "ARQUIVO most_played_2023.csv CRIADO.\n",
      "ARQUIVO most_played_2024.csv CRIADO.\n"
     ]
    }
   ],
   "source": [
    "# Configurações da janela do Selenium\n",
    "options = Options()\n",
    "options.add_argument(\"--headless\")\n",
    "options.add_argument(\"--disable-gpu\")\n",
    "options.add_argument(\"--window-size=1920,1080\")\n",
    "\n",
    "year = 2019\n",
    "all_ids = []\n",
    "\n",
    "# inicializar navegador\n",
    "driver = webdriver.Chrome(options=options)\n",
    "\n",
    "while year <= 2024:\n",
    "    # os links de 2019, 2020 e 2021+ são diferentes, então:\n",
    "    if year == 2019:\n",
    "        game_id_url = f\"https://store.steampowered.com/sale/{year}_most_played/\"\n",
    "    elif year == 2020:\n",
    "        game_id_url = f\"https://store.steampowered.com/sale/BestOf{year}?tab=1\"\n",
    "    else:\n",
    "        game_id_url = f\"https://store.steampowered.com/sale/BestOf{year}?tab=3\"\n",
    "        \n",
    "    driver.get(game_id_url)\n",
    "\n",
    "    time.sleep(5)\n",
    "\n",
    "    # Encontrando IDs\n",
    "    soup = BeautifulSoup(driver.page_source, \"html.parser\")\n",
    "\n",
    "    a_tags = soup.find_all(\"a\", class_=\"Focusable\")\n",
    "    a_tags = a_tags[:50]\n",
    "\n",
    "    ids_year = []        \n",
    "    for tag in a_tags:\n",
    "        # 35 chars antes do id\n",
    "        id = ''\n",
    "        for num in (tag['href'][35:]):\n",
    "            if num == \"/\":\n",
    "                ids_year.append({\"id\": id})\n",
    "                break\n",
    "            id += num\n",
    "            \n",
    "    all_ids.append(ids_year)\n",
    "    year += 1\n",
    "    \n",
    "# liberando memória\n",
    "driver.quit()\n",
    "for i in range(len(all_ids)):\n",
    "    year = 2019 + i\n",
    "    df = pd.DataFrame(all_ids[i])\n",
    "    df.to_csv(f'data/most_played_{year}.csv', index=False)\n",
    "    print(f\"ARQUIVO most_played_{year}.csv CRIADO.\")"
   ]
  }
 ],
 "metadata": {
  "kernelspec": {
   "display_name": "Python 3",
   "language": "python",
   "name": "python3"
  },
  "language_info": {
   "codemirror_mode": {
    "name": "ipython",
    "version": 3
   },
   "file_extension": ".py",
   "mimetype": "text/x-python",
   "name": "python",
   "nbconvert_exporter": "python",
   "pygments_lexer": "ipython3",
   "version": "3.12.8"
  }
 },
 "nbformat": 4,
 "nbformat_minor": 5
}
