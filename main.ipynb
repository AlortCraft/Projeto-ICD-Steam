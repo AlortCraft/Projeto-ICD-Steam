{
 "cells": [
  {
   "cell_type": "markdown",
   "id": "cbfd3cbd",
   "metadata": {},
   "source": [
    "# Análise de Jogos Populares da Steam\n",
    "---"
   ]
  },
  {
   "cell_type": "markdown",
   "id": "fbdebc76",
   "metadata": {},
   "source": [
    "## Importações"
   ]
  },
  {
   "cell_type": "code",
   "execution_count": 17,
   "id": "09963e95",
   "metadata": {},
   "outputs": [],
   "source": [
    "import pandas as pd\n",
    "from bs4 import BeautifulSoup\n",
    "from selenium import webdriver\n",
    "from selenium.webdriver.chrome.options import Options\n",
    "import time\n",
    "\n",
    "import requests\n",
    "import json\n",
    "\n",
    "import re\n",
    "import unicodedata\n",
    "from howlongtobeatpy import HowLongToBeat\n",
    "\n"
   ]
  },
  {
   "cell_type": "markdown",
   "id": "6e7d56a9",
   "metadata": {},
   "source": [
    "---"
   ]
  },
  {
   "cell_type": "markdown",
   "id": "a3d6ec7d",
   "metadata": {},
   "source": [
    "## Coletando Dados e Armazenando em Arquivo CSV"
   ]
  },
  {
   "cell_type": "code",
   "execution_count": 18,
   "id": "2c0543b6",
   "metadata": {},
   "outputs": [],
   "source": [
    "# Configurações da janela do Selenium\n",
    "options = Options()\n",
    "options.add_argument(\"--headless\")\n",
    "options.add_argument(\"--disable-gpu\")\n",
    "options.add_argument(\"--window-size=1920,1080\")"
   ]
  },
  {
   "cell_type": "markdown",
   "id": "78282b95",
   "metadata": {},
   "source": [
    "### Coletando IDs dos Jogos"
   ]
  },
  {
   "cell_type": "code",
   "execution_count": 19,
   "id": "63bb2f08",
   "metadata": {},
   "outputs": [],
   "source": [
    "year = 2019\n",
    "all_ids = []\n",
    "\n",
    "# inicializar navegador\n",
    "driver = webdriver.Chrome(options=options)\n",
    "\n",
    "while year <= 2024:\n",
    "    # os links de 2019, 2020 e 2021+ são diferentes, então:\n",
    "    if year == 2019:\n",
    "        game_id_url = f\"https://store.steampowered.com/sale/{year}_most_played/\"\n",
    "    elif year == 2020:\n",
    "        game_id_url = f\"https://store.steampowered.com/sale/BestOf{year}?tab=1\"\n",
    "    else:\n",
    "        game_id_url = f\"https://store.steampowered.com/sale/BestOf{year}?tab=3\"\n",
    "        \n",
    "    driver.get(game_id_url)\n",
    "\n",
    "    time.sleep(5)\n",
    "\n",
    "    # Encontrando IDs\n",
    "    soup = BeautifulSoup(driver.page_source, \"html.parser\")\n",
    "\n",
    "    a_tags = soup.find_all(\"a\", class_=\"Focusable\")\n",
    "    a_tags = a_tags[:50]\n",
    "\n",
    "    ids_year = []        \n",
    "    for tag in a_tags:\n",
    "        # 35 chars antes do id\n",
    "        id = ''\n",
    "        for num in (tag['href'][35:]):\n",
    "            if num == \"/\":\n",
    "                ids_year.append({'id' : id})\n",
    "                break\n",
    "            id += num\n",
    "            \n",
    "    all_ids.append(ids_year)\n",
    "    year += 1\n",
    "    \n",
    "# liberando memória\n",
    "driver.quit()"
   ]
  },
  {
   "cell_type": "markdown",
   "id": "23d69086",
   "metadata": {},
   "source": [
    "### Armazenando IDs dos jogos de cada ano em arquivos csv"
   ]
  },
  {
   "cell_type": "code",
   "execution_count": 20,
   "id": "f25693f6",
   "metadata": {},
   "outputs": [
    {
     "name": "stdout",
     "output_type": "stream",
     "text": [
      "ARQUIVO most_played_2019.csv CRIADO.\n",
      "ARQUIVO most_played_2020.csv CRIADO.\n",
      "ARQUIVO most_played_2021.csv CRIADO.\n",
      "ARQUIVO most_played_2022.csv CRIADO.\n",
      "ARQUIVO most_played_2023.csv CRIADO.\n",
      "ARQUIVO most_played_2024.csv CRIADO.\n"
     ]
    }
   ],
   "source": [
    "for i in range(len(all_ids)):\n",
    "    year = 2019 + i\n",
    "    df = pd.DataFrame(all_ids[i])\n",
    "    df.to_csv(f'data/most_played_{year}', index=False)\n",
    "    print(f\"ARQUIVO most_played_{year}.csv CRIADO.\")\n",
    "    "
   ]
  },
  {
   "cell_type": "markdown",
   "id": "7e6df634",
   "metadata": {},
   "source": [
    "### Montando Lista com todos os jogos"
   ]
  },
  {
   "cell_type": "code",
   "execution_count": 21,
   "id": "1567dd30",
   "metadata": {},
   "outputs": [],
   "source": [
    "id_all_games = set()\n",
    "for ids_year in all_ids:\n",
    "    for id in ids_year:\n",
    "        id_all_games.add(id['id'])"
   ]
  },
  {
   "cell_type": "markdown",
   "id": "fed68386",
   "metadata": {},
   "source": [
    "### Coletando Informações e Armazenando em Arquivo csv"
   ]
  },
  {
   "cell_type": "code",
   "execution_count": 22,
   "id": "3608ffce",
   "metadata": {},
   "outputs": [
    {
     "name": "stdout",
     "output_type": "stream",
     "text": [
      "ARQUIVO all_games_info.csv CRIADO.\n"
     ]
    }
   ],
   "source": [
    "info_games = []\n",
    "for id in id_all_games:\n",
    "    game_info_url = f\"https://store.steampowered.com/api/appdetails?appids={id}&cc=us\"\n",
    "        \n",
    "    request = requests.get(game_info_url, timeout=10)\n",
    "    time.sleep(1)\n",
    "    \n",
    "    game_data = json.loads(request.text)\n",
    "    \n",
    "    if (game_data) and (id in game_data) and (game_data[id]['success']):\n",
    "        try:\n",
    "            data = game_data[id]['data']\n",
    "            \n",
    "            # coletando: nome, data de lançamento, idade mínima, se é gratuito, tipo da moeda e preço.\n",
    "            # caso queira coletar mais informações, atribuir variáveis abaixo.\n",
    "            name = data['name']\n",
    "            release_date = data['release_date']['date']\n",
    "            min_age = data['required_age']\n",
    "            \n",
    "            genres_list = data['genres']\n",
    "            genres = ', '.join([g['description'] for g in genres_list]) if genres_list else None\n",
    "            \n",
    "            # Se existir preco, atribua a variável preço\n",
    "            # Caso contrário, atrivua a variável preço None  \n",
    "            try:\n",
    "                preco = float(data['price_overview']['initial']) / 100\n",
    "            except Exception:\n",
    "                preco = 0\n",
    "\n",
    "            # Criando dicionário do jogo atual e adicionando na lista\n",
    "            info_games.append({\n",
    "                'id' : id, \n",
    "                'game' : name, \n",
    "                'release_date' : release_date, \n",
    "                'price_USD' : preco,\n",
    "                'genres' : genres,\n",
    "                'min_age' : min_age,\n",
    "                })\n",
    "        except Exception:\n",
    "            print(f\"Erro ao processar ID {id}.\")\n",
    "            \n",
    "df = pd.DataFrame(info_games)\n",
    "df.to_csv(\"data/all_games_info\", index=False, encoding=\"utf-8\")\n",
    "print(\"ARQUIVO all_games_info.csv CRIADO.\")\n",
    "            \n",
    "    "
   ]
  },
  {
   "cell_type": "markdown",
   "id": "ba1af9a8",
   "metadata": {},
   "source": [
    "#### Coletando Análises dos Jogos"
   ]
  },
  {
   "cell_type": "code",
   "execution_count": 23,
   "id": "4054130b",
   "metadata": {},
   "outputs": [],
   "source": [
    "df = pd.read_csv(\"data/all_games_info\")\n",
    "\n",
    "reviews_all_games = []\n",
    "for id in df['id']:\n",
    "    params = {\n",
    "    \"json\": 1,\n",
    "    \"language\": \"english\",\n",
    "    }\n",
    "    resp = requests.get(f\"https://store.steampowered.com/appreviews/{id}\", params=params)\n",
    "    data = resp.json()\n",
    "    summary = data['query_summary']\n",
    "    \n",
    "    reviews_all_games.append({\n",
    "        'id' : id,\n",
    "        'score' : summary['review_score'],\n",
    "        'total_reviews' : summary['total_reviews'],\n",
    "        'total_positive' : summary['total_positive'],\n",
    "        'total_negative' : summary['total_negative']\n",
    "    })\n",
    "    \n",
    "df = pd.DataFrame(reviews_all_games)\n",
    "df.to_csv('data/all_games_review', index=False)"
   ]
  },
  {
   "cell_type": "markdown",
   "id": "9023ea72",
   "metadata": {},
   "source": [
    "#### Coletando Tempo de jogo médio"
   ]
  },
  {
   "cell_type": "code",
   "execution_count": 60,
   "id": "291dd16f",
   "metadata": {},
   "outputs": [
    {
     "name": "stdout",
     "output_type": "stream",
     "text": [
      "---------------------------------------------------------------|\n",
      "Erro: max() iterable argument is empty\n",
      "Pesquisa mal sucedida para 鬼谷八荒 Tale of Immortal.\n",
      "---------------------------------------------------------------|\n",
      "Erro: max() iterable argument is empty\n",
      "Pesquisa mal sucedida para EA SPORTS™ FIFA 23.\n",
      "---------------------------------------------------------------|\n",
      "Erro: max() iterable argument is empty\n",
      "Pesquisa mal sucedida para Wallpaper Engine.\n"
     ]
    }
   ],
   "source": [
    "df_game = pd.read_csv('data/all_games_info')\n",
    "\n",
    "\n",
    "all_games_time = []\n",
    "for id, game_name in zip(df_game['id'], df_game['game']):\n",
    "    \n",
    "    main_story = None\n",
    "    completionist = None\n",
    "    \n",
    "    try:    \n",
    "        game_search = HowLongToBeat().search(game_name, similarity_case_sensitive=False)\n",
    "        \n",
    "        if not game_search:\n",
    "            # Normalizando o nome\n",
    "            clean_game_name = unicodedata.normalize(\"NFKD\", game_name)\n",
    "            clean_game_name = clean_game_name.encode(\"ascii\", \"ignore\").decode(\"utf-8\")\n",
    "            clean_game_name = re.sub(r\"[^\\w\\s]\", \"\", game_name)\n",
    "            \n",
    "            game_search = HowLongToBeat().search(clean_game_name, similarity_case_sensitive=False)\n",
    "            \n",
    "            if not game_search:\n",
    "                clean_game_name = clean_game_name.split(\" \")\n",
    "                clean_game_name = \" \".join(clean_game_name[:3])\n",
    "                game_search = HowLongToBeat().search(clean_game_name, similarity_case_sensitive=False)\n",
    "\n",
    "        entry = max(game_search, key=lambda x: x.similarity)\n",
    "        \n",
    "        main_story = entry.main_story\n",
    "        completionist = entry.completionist\n",
    "        \n",
    "    except Exception as error:\n",
    "        print(\"---------------------------------------------------------------|\")\n",
    "        print(f\"Erro: {error}\")\n",
    "        print(f\"Pesquisa mal sucedida para {game_name}.\")\n",
    "    \n",
    "    all_games_time.append({\n",
    "        \"id\" : id,\n",
    "        \"main_story\" : main_story,\n",
    "        \"completionist\" : completionist\n",
    "        })\n",
    "        \n",
    "df_time = pd.DataFrame(all_games_time)\n",
    "df_time.to_csv(\"data/all_games_time\", index=False)"
   ]
  },
  {
   "cell_type": "markdown",
   "id": "0df57a3b",
   "metadata": {},
   "source": [
    "### Visualizando/Manipulando Dados Coletados"
   ]
  },
  {
   "cell_type": "code",
   "execution_count": 57,
   "id": "1a330489",
   "metadata": {},
   "outputs": [
    {
     "name": "stdout",
     "output_type": "stream",
     "text": [
      "159\n"
     ]
    }
   ],
   "source": [
    "# etc"
   ]
  }
 ],
 "metadata": {
  "kernelspec": {
   "display_name": "Python 3",
   "language": "python",
   "name": "python3"
  },
  "language_info": {
   "codemirror_mode": {
    "name": "ipython",
    "version": 3
   },
   "file_extension": ".py",
   "mimetype": "text/x-python",
   "name": "python",
   "nbconvert_exporter": "python",
   "pygments_lexer": "ipython3",
   "version": "3.12.8"
  }
 },
 "nbformat": 4,
 "nbformat_minor": 5
}
