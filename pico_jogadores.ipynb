{
 "cells": [
  {
   "cell_type": "code",
   "execution_count": 3,
   "id": "3afc33fd",
   "metadata": {},
   "outputs": [],
   "source": [
    "import requests\n",
    "import pandas as pd\n",
    "from datetime import datetime, timezone"
   ]
  },
  {
   "cell_type": "code",
   "execution_count": 4,
   "id": "a1505b03",
   "metadata": {},
   "outputs": [],
   "source": [
    "def get_yearly_stats(appid, year):\n",
    "   \n",
    "    url = f\"https://steamcharts.com/app/{appid}/chart-data.json\"\n",
    "    response = requests.get(url)\n",
    "    if response.status_code != 200:\n",
    "        return None, None\n",
    "    \n",
    "    data = response.json()  \n",
    "    \n",
    "    year_data = []\n",
    "    for ts, avg_players in data:\n",
    "        dt = datetime.fromtimestamp(ts / 1000, tz=timezone.utc)  \n",
    "        if dt.year == year:\n",
    "            year_data.append(avg_players)\n",
    "    \n",
    "    if not year_data:\n",
    "        return None, None \n",
    "    \n",
    "    peak = max(year_data) # pico do ano\n",
    "    avg = sum(year_data) / len(year_data)  # média do ano\n",
    "    return peak, avg\n",
    "\n",
    "\n",
    "anos = [2019, 2020, 2021, 2022, 2023, 2024]\n",
    "\n",
    "for ano in anos:\n",
    "    \n",
    "    df = pd.read_csv(f\"data/most_played_{ano}.csv\")\n",
    "    \n",
    "    resultados = []\n",
    "    for appid in df[\"id\"]:\n",
    "        peak, avg = get_yearly_stats(appid, ano)\n",
    "        resultados.append({\n",
    "            \"id\": appid,\n",
    "            \"peak\": peak,\n",
    "            \"average\": avg\n",
    "        })\n",
    "    \n",
    "    # salvar em CSV\n",
    "    df_result = pd.DataFrame(resultados)\n",
    "    df_result.to_csv(f\"data/most_played_{ano}.csv\", index=False)"
   ]
  }
 ],
 "metadata": {
  "kernelspec": {
   "display_name": "Python 3",
   "language": "python",
   "name": "python3"
  },
  "language_info": {
   "codemirror_mode": {
    "name": "ipython",
    "version": 3
   },
   "file_extension": ".py",
   "mimetype": "text/x-python",
   "name": "python",
   "nbconvert_exporter": "python",
   "pygments_lexer": "ipython3",
   "version": "3.12.8"
  }
 },
 "nbformat": 4,
 "nbformat_minor": 5
}
