{
 "cells": [
  {
   "cell_type": "markdown",
   "id": "749330d2",
   "metadata": {},
   "source": [
    "# Coletar Tempo de jogo dos jogos"
   ]
  },
  {
   "cell_type": "code",
   "execution_count": 3,
   "id": "0d1adb5a",
   "metadata": {},
   "outputs": [],
   "source": [
    "import pandas as pd\n",
    "import re\n",
    "import unicodedata\n",
    "from howlongtobeatpy import HowLongToBeat"
   ]
  },
  {
   "cell_type": "code",
   "execution_count": 4,
   "id": "c58eb841",
   "metadata": {},
   "outputs": [
    {
     "name": "stdout",
     "output_type": "stream",
     "text": [
      "---------------------------------------------------------------|\n",
      "Erro: max() iterable argument is empty\n",
      "Pesquisa mal sucedida para Crosshair X.\n",
      "---------------------------------------------------------------|\n",
      "Erro: max() iterable argument is empty\n",
      "Pesquisa mal sucedida para Wallpaper Engine.\n"
     ]
    }
   ],
   "source": [
    "df_game = pd.read_csv('data/all_games_info.csv')\n",
    "all_games_time = []\n",
    "for id, game_name in zip(df_game['id'], df_game['game']):\n",
    "    \n",
    "    main_story = None\n",
    "    completionist = None\n",
    "    \n",
    "    try:\n",
    "        if game_name == \"鬼谷八荒 Tale of Immortal\":\n",
    "            game_name = \"Tale of Immortal\"\n",
    "        elif game_name == \"EA SPORTS™ FIFA 23\":\n",
    "            game_name = \"FIFA 23\"\n",
    "        elif game_name == \"暖雪 Warm Snow\":\n",
    "            game_name = \"Warm Snow\"\n",
    "        elif game_name == \"EA SPORTS™ FIFA 21\":\n",
    "            game_name = \"FIFA 21\"\n",
    "        elif game_name == \"Shadowverse CCG\":\n",
    "            game_name = \"Shadowverse\"\n",
    "        elif game_name == \"Marvel’s Spider-Man Remastered\":\n",
    "            game_name = \"Marvel's Spider-Man Remastered\"\n",
    "        \n",
    "        game_search = HowLongToBeat().search(game_name, similarity_case_sensitive=False)\n",
    "        \n",
    "        if not game_search:\n",
    "            # Normalizando o nome\n",
    "            clean_game_name = unicodedata.normalize(\"NFKD\", game_name)\n",
    "            clean_game_name = clean_game_name.encode(\"ascii\", \"ignore\").decode(\"utf-8\")\n",
    "            clean_game_name = re.sub(r\"[^\\w\\s]\", \"\", game_name)\n",
    "            \n",
    "            game_search = HowLongToBeat().search(clean_game_name, similarity_case_sensitive=False)\n",
    "            \n",
    "            if not game_search:\n",
    "                clean_game_name = clean_game_name.split(\" \")\n",
    "                clean_game_name = \" \".join(clean_game_name[:3])\n",
    "                game_search = HowLongToBeat().search(clean_game_name, similarity_case_sensitive=False)\n",
    "\n",
    "        entry = max(game_search, key=lambda x: x.similarity)\n",
    "        \n",
    "        main_story = entry.main_story\n",
    "        completionist = entry.completionist\n",
    "        \n",
    "    except Exception as error:\n",
    "        print(\"---------------------------------------------------------------|\")\n",
    "        print(f\"Erro: {error}\")\n",
    "        print(f\"Pesquisa mal sucedida para {game_name}.\")\n",
    "    \n",
    "    all_games_time.append({\n",
    "        \"id\" : id,\n",
    "        \"main_story\" : main_story,\n",
    "        \"completionist\" : completionist\n",
    "        })\n",
    "        \n",
    "df_time = pd.DataFrame(all_games_time)\n",
    "df_time.to_csv(\"data/all_games_time.csv\", index=False)"
   ]
  }
 ],
 "metadata": {
  "kernelspec": {
   "display_name": "Python 3",
   "language": "python",
   "name": "python3"
  },
  "language_info": {
   "codemirror_mode": {
    "name": "ipython",
    "version": 3
   },
   "file_extension": ".py",
   "mimetype": "text/x-python",
   "name": "python",
   "nbconvert_exporter": "python",
   "pygments_lexer": "ipython3",
   "version": "3.12.8"
  }
 },
 "nbformat": 4,
 "nbformat_minor": 5
}
