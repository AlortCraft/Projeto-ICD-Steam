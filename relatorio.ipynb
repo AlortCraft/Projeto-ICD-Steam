{
 "cells": [
  {
   "cell_type": "markdown",
   "id": "0868cbfb",
   "metadata": {},
   "source": [
    "# Analise de jogos mais jogados da Steam\n",
    "---\n",
    "\n",
    "## Integrantes:\n",
    "- Samuel Santos;\n",
    "- Pedro Henrique;\n",
    "- Leonardo Filho;\n",
    "- Sean Lucas."
   ]
  },
  {
   "cell_type": "markdown",
   "id": "f848cde5",
   "metadata": {},
   "source": []
  }
 ],
 "metadata": {
  "language_info": {
   "name": "python"
  }
 },
 "nbformat": 4,
 "nbformat_minor": 5
}
