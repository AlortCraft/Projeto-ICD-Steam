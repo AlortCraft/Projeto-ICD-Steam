{
 "cells": [
  {
   "cell_type": "markdown",
   "id": "0868cbfb",
   "metadata": {},
   "source": [
    "# Analise de Jogos mais Jogados da Steam\n",
    "---\n",
    "\n",
    "## Integrantes:\n",
    "- Samuel Santos;\n",
    "- Pedro Henrique;\n",
    "- Leonardo Filho;\n",
    "- Sean Lucas.\n",
    "\n",
    "---\n",
    "\n",
    "## Introdução:"
   ]
  },
  {
   "cell_type": "markdown",
   "id": "2ed446c7",
   "metadata": {},
   "source": [
    "---\n",
    "\n",
    "## Dados Usados:"
   ]
  },
  {
   "cell_type": "markdown",
   "id": "ece0d7f4",
   "metadata": {},
   "source": [
    "---\n",
    "## Importações para Pré-processamento e Analises:"
   ]
  },
  {
   "cell_type": "code",
   "execution_count": 1,
   "id": "30935402",
   "metadata": {},
   "outputs": [],
   "source": [
    "import pandas as pd\n",
    "import numpy as np\n",
    "\n",
    "import matplotlib.pyplot as plt\n",
    "from scipy.stats import linregress"
   ]
  },
  {
   "cell_type": "markdown",
   "id": "9863cc4d",
   "metadata": {},
   "source": [
    "---\n",
    "\n",
    "## Pré-processamento:"
   ]
  },
  {
   "cell_type": "markdown",
   "id": "2860e144",
   "metadata": {},
   "source": [
    "### Formatando Datas de Lançamentos dos Jogos\n",
    "Como as datas de lançamentos de cada jogo veio no formato \"mes-escrito dia, ano\", seria inviável utilizarmos esses dados para análise. Portanto, convertemos as datas para o formato DateTime para um uso mais viável."
   ]
  },
  {
   "cell_type": "code",
   "execution_count": 2,
   "id": "c5d07b93",
   "metadata": {},
   "outputs": [],
   "source": [
    "# Formatando data de lançamento dos jogos\n",
    "df_games_info = pd.read_csv(\"data/all_games_info.csv\")\n",
    "\n",
    "df_games_info[\"release_date\"] = pd.to_datetime(df_games_info[\"release_date\"])\n",
    "df_games_info.to_csv(\"data/all_games_info.csv\", index=False)"
   ]
  },
  {
   "cell_type": "markdown",
   "id": "9f13eff4",
   "metadata": {},
   "source": [
    "### Padronizando GPUS:"
   ]
  },
  {
   "cell_type": "code",
   "execution_count": 3,
   "id": "e8d99f1e",
   "metadata": {},
   "outputs": [
    {
     "name": "stdout",
     "output_type": "stream",
     "text": [
      "0       GTX 680\n",
      "1           NaN\n",
      "2       GTX 970\n",
      "3       GTX 970\n",
      "4           NaN\n",
      "         ...   \n",
      "257     GTX 950\n",
      "258     GTX 660\n",
      "259    GTX 1650\n",
      "260    GTX 1650\n",
      "261     GTX 960\n",
      "Length: 262, dtype: object\n"
     ]
    }
   ],
   "source": [
    "# padronizando GPUS pelos modelos e VRAM\n",
    "\n",
    "pattern = r'(?i)\\b(?:GB\\s*(?P<vram1>\\d+)|(?P<vram2>\\d+)\\s*GB)|\\b(?P<sigla>GTX|GT|RTX|RT)\\s*(?P<gnum>\\d{2,4})\\b'\n",
    "\n",
    "ex = df_games_info[\"pc_requirements\"].str.extract(pattern)\n",
    "\n",
    "vram = ex[\"vram1\"].fillna(ex[\"vram2\"])\n",
    "\n",
    "gpu = (ex[\"sigla\"].str.upper().fillna(\"\") + \" \" + ex[\"gnum\"].fillna(\"\")).str.strip()\n",
    "gpu = gpu.replace(\"\", np.nan)\n",
    "print(gpu)\n",
    "\n",
    "df_games_info[\"gpu_vram\"] = vram.where(vram.notna(), gpu)\n",
    "df_games_info.loc[vram.notna(), \"gpu_vram\"] = df_games_info.loc[vram.notna(), \"gpu_vram\"]\n",
    "\n",
    "\n",
    "vram_gpus = {\n",
    "    1: [\n",
    "        \"GTX 550\", \"GTX 560\", \"GTX 650\", \"GT 420\", \"GTX 470\", \"GTX 580\", \"GTX 430\", \"GTX 260\", \"GTX 600\",\n",
    "        \"GTX 700\", \"GT 740\", \"GTX 460\", \"GT 430\", \"GeForce 8800 GT\", \"GeForce 6600\", \"Discreet video card\", \"NVidia 6600\", \"GeForce 8600\", \"GeForceâ¢ 6600\", \"Intel HD 530\"\n",
    "    ],\n",
    "    2: [\n",
    "        \"GTX 660\", \"GTX 680\", \"GTX 760\", \"GTX 770\", \"GT 710\", \"GT 1030\", \"GT 450\", \"GT 730\", \"GTX 960\", \"GTX 670\", \"GTX 1050\", \"GTX 900\", \"GTX 750\", \"Intel HD 4600\", \"650TI\", \"GTX 750TI\", \"GeForce 760\",\n",
    "    ],\n",
    "    3: [\n",
    "        \"GTX 780\"\n",
    "    ],\n",
    "    4: [\n",
    "        \"GTX 1650\", \"GTX 970\", \"GTX 980\", \"GTX 950\", \"GTX 1070\", \"GTX 1080\", \"GTX 1650\"\n",
    "    ],\n",
    "    6: [\n",
    "        \"GTX 1060\"\n",
    "    ],\n",
    "    8: [\n",
    "        \"GeForce 1070 Ti\"\n",
    "    ]\n",
    "}\n",
    "\n",
    "for vram, gpus in vram_gpus.items():\n",
    "    for gpu in gpus:\n",
    "        if gpu in df_games_info[\"gpu_vram\"].values:\n",
    "            df_games_info.loc[df_games_info[\"gpu_vram\"] == gpu, \"gpu_vram\"] = vram\n",
    "            \n",
    "df_games_info.to_csv(\"data/all_games_info.csv\", index=False)"
   ]
  },
  {
   "cell_type": "code",
   "execution_count": null,
   "id": "9b1a0c6d",
   "metadata": {},
   "outputs": [],
   "source": [
    "\n"
   ]
  },
  {
   "cell_type": "markdown",
   "id": "e90b5a9d",
   "metadata": {},
   "source": [
    "---\n",
    "## Perguntas"
   ]
  },
  {
   "cell_type": "markdown",
   "id": "4e37660e",
   "metadata": {},
   "source": []
  },
  {
   "cell_type": "code",
   "execution_count": null,
   "id": "ef29fd9c",
   "metadata": {},
   "outputs": [],
   "source": []
  }
 ],
 "metadata": {
  "kernelspec": {
   "display_name": "Python 3",
   "language": "python",
   "name": "python3"
  },
  "language_info": {
   "codemirror_mode": {
    "name": "ipython",
    "version": 3
   },
   "file_extension": ".py",
   "mimetype": "text/x-python",
   "name": "python",
   "nbconvert_exporter": "python",
   "pygments_lexer": "ipython3",
   "version": "3.12.8"
  }
 },
 "nbformat": 4,
 "nbformat_minor": 5
}
