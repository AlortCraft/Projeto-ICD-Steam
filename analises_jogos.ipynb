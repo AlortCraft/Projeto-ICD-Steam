{
 "cells": [
  {
   "cell_type": "markdown",
   "id": "7398cb0e",
   "metadata": {},
   "source": [
    "# Coletar analises dos jogos"
   ]
  },
  {
   "cell_type": "code",
   "execution_count": 3,
   "id": "47f0bf46",
   "metadata": {},
   "outputs": [],
   "source": [
    "import pandas as pd\n",
    "\n",
    "import requests\n",
    "\n",
    "import json"
   ]
  },
  {
   "cell_type": "code",
   "execution_count": 4,
   "id": "8d45bb41",
   "metadata": {},
   "outputs": [],
   "source": [
    "df = pd.read_csv(\"data/all_games_info.csv\")\n",
    "\n",
    "reviews_all_games = []\n",
    "for id in df['id']:\n",
    "    params = {\n",
    "    \"json\": 1,\n",
    "    \"language\": \"english\",\n",
    "    }\n",
    "    resp = requests.get(f\"https://store.steampowered.com/appreviews/{id}\", params=params)\n",
    "    data = resp.json()\n",
    "    summary = data['query_summary']\n",
    "    \n",
    "    reviews_all_games.append({\n",
    "        'id' : id,\n",
    "        'score' : summary['review_score'],\n",
    "        'total_reviews' : summary['total_reviews'],\n",
    "        'total_positive' : summary['total_positive'],\n",
    "        'total_negative' : summary['total_negative']\n",
    "    })\n",
    "    \n",
    "df = pd.DataFrame(reviews_all_games)\n",
    "df.to_csv('data/all_games_review.csv', index=False)"
   ]
  }
 ],
 "metadata": {
  "kernelspec": {
   "display_name": "Python 3",
   "language": "python",
   "name": "python3"
  },
  "language_info": {
   "codemirror_mode": {
    "name": "ipython",
    "version": 3
   },
   "file_extension": ".py",
   "mimetype": "text/x-python",
   "name": "python",
   "nbconvert_exporter": "python",
   "pygments_lexer": "ipython3",
   "version": "3.12.8"
  }
 },
 "nbformat": 4,
 "nbformat_minor": 5
}
